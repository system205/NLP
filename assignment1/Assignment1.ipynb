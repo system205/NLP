{
  "cells": [
    {
      "cell_type": "code",
      "execution_count": 174,
      "metadata": {},
      "outputs": [
        {
          "name": "stdout",
          "output_type": "stream",
          "text": [
            "/NLP\n"
          ]
        },
        {
          "name": "stderr",
          "output_type": "stream",
          "text": [
            "5819.28s - pydevd: Sending message related to process being replaced timed-out after 5 seconds\n"
          ]
        },
        {
          "name": "stdout",
          "output_type": "stream",
          "text": [
            "\u001b[0m\u001b[01;32mAssignment1_data.zip\u001b[0m*  \u001b[01;32mrussian\u001b[0m*  \u001b[01;32mrussian.jsonl\u001b[0m*  \u001b[01;34munzipped_data\u001b[0m/\n"
          ]
        },
        {
          "name": "stderr",
          "output_type": "stream",
          "text": [
            "5824.55s - pydevd: Sending message related to process being replaced timed-out after 5 seconds\n"
          ]
        },
        {
          "name": "stdout",
          "output_type": "stream",
          "text": [
            "rm: remove write-protected regular file 'russian.jsonl'? ^C\n"
          ]
        }
      ],
      "source": [
        "%cd /NLP\n",
        "%ls"
      ]
    },
    {
      "cell_type": "markdown",
      "metadata": {
        "id": "RKboZnAdgrRM"
      },
      "source": [
        "# [NLP] Assignment 1: Tokenization\n",
        "\n",
        "In this assignment, you need to tokenize the text of the Twitter(X) users posts(tweets). The assignment consists of two tasks. When you finish all the tasks, create a GitHub repository for this assignment (you can use this repo later for the other assignments) and submit this notebook in the repository. Leave `requirements.txt` file if your code requires additional installations. Submit the link to the repository in Moodle.\n",
        "\n",
        "The [data](https://drive.google.com/file/d/15x_wPAflvYQ2Xh38iNQGrqUIWLj5l5Nw/view?usp=share_link) contains 5 files whereby each contains 44 tweets. Each tweet is separated by a newline."
      ]
    },
    {
      "cell_type": "markdown",
      "metadata": {
        "id": "aLDjjAvemUP_"
      },
      "source": [
        "## Task 1. Tokenize some tweets manually (20 points)\n",
        "\n",
        "As a first task you need to tokenize first 15 tweets from `file2` by hand. This will allow you to understand the problem from a linguistic point of view. The guidelines for tweet tokenization are as follows:\n",
        "\n",
        "- Each smiley is a separate token\n",
        "- Each hashtag is an individual token. Each user reference is an individual token\n",
        "- If a word has spaces between them then it is converted to a single token\n",
        "- All punctuations are individual tokens. This includes double-quotes and single quotes also\n",
        "- A URL is a single token\n",
        "\n",
        "Example of output\n",
        "\n",
        "    Input tweet\n",
        "    @xfranman Old age has made N A T O!\n",
        "\n",
        "    Tokenized tweet (separated by comma)\n",
        "    @xfranman , Old , age , has , made , NATO , !"
      ]
    },
    {
      "cell_type": "markdown",
      "metadata": {
        "id": "7KKKwTidnzUw"
      },
      "source": [
        "\n",
        "    1. Input tweet\n",
        "    Camping in Maine for the weekend. Hey Dad, Mama Loves YOU: http://www.mamapalooza.com\n",
        "    1. Tokenized tweet (separated by comma)\n",
        "    Camping , in , Maine , for , the , weekend , . , Hey , Dad , , , Mama , Loves , YOU , : , http://www.mamapalooza.com\n",
        "\n",
        "    2. Input tweet\n",
        "    Its american tradition bitch\n",
        "    2. Tokenized tweet\n",
        "    Its , american , tradition , bitch\n",
        "\n",
        "    3. Input tweet\n",
        "    @ThroughTheVoid They love it! The only pleasure they get in life. I actually do that. I'm sure I hear a tiny squeak... Then louder ones\n",
        "    3. Tokenized tweet (separated by comma)\n",
        "    @ThroughTheVoid , They , love , it , ! , The , only , pleasure , they , get , in , life , . , I , actually , do , that , . , I , ' , m , sure , I , hear , a , tiny , squeak , ... , Then , louder , ones\n",
        "\n",
        "    4. Input tweet\n",
        "    \" RT @latti: @AbsoHilare stop tweeting in church! Lol <--- \"\"I tweet because I'm happy, I tweet because I'm free\"\" LOL!\"\n",
        "    4. Tokenized tweet (separated by comma)\n",
        "    \" , RT , @latti , : , @AbsoHilare , stop , tweeting , in , church , ! , Lol , <--- , \" , \" , I , tweet , because , I , ' , m , happy , , , I , tweet , because , I , ' , m , free , \" , \" , LOL , ! , \"\n",
        "\n",
        "    5. Input tweet\n",
        "    Samsung Mini S2 portable HDD graced with colors that perfectly match your tacky beach gear: Sammy's done it aga.. http://tinyurl.com/lb5p6m\n",
        "    5. Tokenized tweet (separated by comma)\n",
        "    Samsung , Mini , S2 , portable , HDD , graced , with , colors , that , perfectly , match , your , tacky , beach , gear , : , Sammy , ' , s , done , it , aga , .. , http://tinyurl.com/lb5p6m\n",
        "\n",
        "    6. Input tweet\n",
        "    @dialloc congrats on finding your way over. it may be slow going at first. hang in there. it's kinda cool when u get up to speed.\\n\n",
        "    6. Tokenized tweet (separated by comma)\n",
        "    @dialloc , congrats , on , finding , your , way , over , . , it , may , be , slow , going , at , first , . , hang , in , there , . , it, ' , s , kinda , cool , when , u , get , up , to ,  speed , . \n",
        "\n",
        "    7. Input tweet\n",
        "    iPhone activation delays continue, Apple offers $30 http://twt.gs/l3Ki\\n\n",
        "    7. Tokenized tweet (separated by comma)\n",
        "    iPhone , activation , delays , continue , , , Apple , offers , $ , 3 , 0 , http://twt.gs/l3Ki\\n\n",
        "\n",
        "    8. Input tweet\n",
        "    RT @GoogleAtWork Gmail maximum attachment size now 25MB http://bit.ly/62mjw Nice!!!\n",
        "    8. Tokenized tweet (separated by comma)\n",
        "    RT , @GoogleAtWork , Gmail , maximum , attachment , size , now , 2 , 5 , MB , http://bit.ly/62mjw , Nice , ! , ! , !\n",
        "\n",
        "    9. Input tweet\n",
        "    RT @acfou The Ads Won Awards for Crispin; But Did Nothing for Client BurgerKing's Sales/Marketshare - Big Surprise - http://ping.fm/vw8TI\n",
        "    9. Tokenized tweet (separated by comma)\n",
        "    RT , @acfou , The , Ads , Won , Awards , for , Crispin , ; , But , Did , Nothing , for , Client , BurgerKing , ' , s , Sales , / , Marketshare , - , Big , Surprise , - , http://ping.fm/vw8TI\n",
        "\n",
        "    10. Input tweet\n",
        "    Hey doll! Great I missed True Blood yday boo lol Rt @FrankBanuat78 @jhillstephens Hello Sunshine how are u today? :-)\n",
        "    10. Tokenized tweet (separated by comma)\n",
        "    Hey , doll , ! , Great , I , missed , True , Blood , yday , boo , lol , Rt , @FrankBanuat78 , @jhillstephens , Hello , Sunshine , how , are , u , today , ? , :-)\n",
        "\n",
        "    11. Input tweet\n",
        "    Australian artist Pogo made these free songs primarily from sampled audio from Alice In Wonderland. http://www.last.fm/music/Pogo/Wonderland\n",
        "    11. Tokenized tweet (separated by comma)\n",
        "    Australian , artist , Pogo , made , these , free , songs , primarily , from , sampled , audio , from , Alice , In , Wonderland , . , http://www.last.fm/music/Pogo/Wonderland\n",
        "\n",
        "    12. Input tweet\n",
        "    @mppritchard they wanted to sell all the preorders & then sell all of the ones they had in stock to those that just walked in. Can't do both\n",
        "    12. Tokenized tweet (separated by comma)\n",
        "    @mppritchard , they , wanted , to , sell , all , the , preorders , & , then , sell , all , of , the , ones , they , had , in , stock , to , those , that , just , walked , in , . , Can , ' , t , do , both\n",
        "\n",
        "    13. Input tweet\n",
        "    Incoming: Frightened Rabbit, Sept. 22 (Tucson): If Fat Cat Records is going to send three great bands from Scot.. http://tinyurl.com/nz6xcv\n",
        "    13. Tokenized tweet (separated by comma)\n",
        "    Incoming , : , Frightened , Rabbit , , , Sept , . , 2 , 2 , ( , Tucson , ) , : , If , Fat , Cat , Records , is , going , to , send , three , great , bands , from , Scot , .. , http://tinyurl.com/nz6xcv\n",
        "\n",
        "    14. Input tweet\n",
        "    Hey @ginoandfran please greet philip! (GinoandFran live > http://ustre.am/2YyQ)\n",
        "    14. Tokenized tweet (separated by comma)\n",
        "    Hey , @ginoandfran , please , greet , philip , ! , ( , GinoandFran , live , > , http://ustre.am/2YyQ , )\n",
        "\n",
        "    15. Input tweet\n",
        "    Ik weet niet wie er achter de T-Mobile iPhone Twitter zit maar ik vind het niet echt 'corporate' taalgebruik... Best vreemd eigenlijk\n",
        "    15. Tokenized tweet (separated by comma)\n",
        "    Ik , weet , niet , wie , er , achter , de , T-Mobile , iPhone , Twitter , zit , maar , ik , vind , het , niet , echt , ' , corporate , ' , taalgebruik , ... , Best , vreemd , eigenlijk"
      ]
    },
    {
      "cell_type": "code",
      "execution_count": 162,
      "metadata": {},
      "outputs": [],
      "source": [
        "import zipfile\n",
        "archive = 'Assignment1_data.zip'\n",
        "unzip_folder = './unzipped_data/'\n",
        "with zipfile.ZipFile(archive, 'r') as zip_ref:\n",
        "    zip_ref.extractall(unzip_folder)"
      ]
    },
    {
      "cell_type": "code",
      "execution_count": 163,
      "metadata": {},
      "outputs": [
        {
          "name": "stderr",
          "output_type": "stream",
          "text": [
            "5683.85s - pydevd: Sending message related to process being replaced timed-out after 5 seconds\n"
          ]
        },
        {
          "name": "stdout",
          "output_type": "stream",
          "text": [
            "file1  file2  file3  file4  file5  __MACOSX\n"
          ]
        }
      ],
      "source": [
        "!ls unzipped_data/"
      ]
    },
    {
      "cell_type": "markdown",
      "metadata": {},
      "source": [
        "### Display 15 tweets from file2"
      ]
    },
    {
      "cell_type": "code",
      "execution_count": 164,
      "metadata": {},
      "outputs": [
        {
          "name": "stdout",
          "output_type": "stream",
          "text": [
            "44\n",
            "(1, 'Camping in Maine for the weekend. Hey Dad, Mama Loves YOU: http://www.mamapalooza.com\\n')\n",
            "(2, 'Its american tradition bitch\\n')\n",
            "(3, \"@ThroughTheVoid They love it! The only pleasure they get in life. I actually do that. I'm sure I hear a tiny squeak... Then louder ones\\n\")\n",
            "(4, '\" RT @latti: @AbsoHilare stop tweeting in church! Lol <--- \"\"I tweet because I\\'m happy, I tweet because I\\'m free\"\" LOL!\"\\n')\n",
            "(5, \"Samsung Mini S2 portable HDD graced with colors that perfectly match your tacky beach gear: Sammy's done it aga.. http://tinyurl.com/lb5p6m\\n\")\n",
            "(6, \"@dialloc congrats on finding your way over. it may be slow going at first. hang in there. it's kinda cool when u get up to speed.\\n\")\n",
            "(7, 'iPhone activation delays continue, Apple offers $30 http://twt.gs/l3Ki\\n')\n",
            "(8, 'RT @GoogleAtWork Gmail maximum attachment size now 25MB http://bit.ly/62mjw Nice!!!\\n')\n",
            "(9, \"RT @acfou The Ads Won Awards for Crispin; But Did Nothing for Client BurgerKing's Sales/Marketshare - Big Surprise - http://ping.fm/vw8TI\\n\")\n",
            "(10, 'Hey doll! Great I missed True Blood yday boo lol Rt @FrankBanuat78 @jhillstephens Hello Sunshine how are u today? :-)\\n')\n",
            "(11, 'Australian artist Pogo made these free songs primarily from sampled audio from Alice In Wonderland. http://www.last.fm/music/Pogo/Wonderland\\n')\n",
            "(12, \"@mppritchard they wanted to sell all the preorders & then sell all of the ones they had in stock to those that just walked in. Can't do both\\n\")\n",
            "(13, 'Incoming: Frightened Rabbit, Sept. 22 (Tucson): If Fat Cat Records is going to send three great bands from Scot.. http://tinyurl.com/nz6xcv\\n')\n",
            "(14, 'Hey @ginoandfran please greet philip! (GinoandFran live > http://ustre.am/2YyQ)\\n')\n",
            "(15, \"Ik weet niet wie er achter de T-Mobile iPhone Twitter zit maar ik vind het niet echt 'corporate' taalgebruik... Best vreemd eigenlijk\\n\")\n"
          ]
        }
      ],
      "source": [
        "with open(unzip_folder+'file2', 'r') as f:\n",
        "    a = f.readlines()\n",
        "    print(len(a))\n",
        "    print(*list(enumerate(a, start=1))[:15], sep='\\n')"
      ]
    },
    {
      "cell_type": "markdown",
      "metadata": {
        "id": "-2J2AD2nmUhi"
      },
      "source": [
        "## Task 2. Implement [Byte-Pair Encoding(BPE)](https://arxiv.org/pdf/1508.07909.pdf) Tokenizer (80 points)\n",
        "\n",
        "### Task 2.1. Implementation (60 points)\n",
        "\n",
        "Implement the tokenizer as the BPETokenizer class:\n",
        "* Implement `train` method that learns merges and builds the vocabulary of the specified `vocab_size` (25 points).\n",
        "* Implement `tokenize` method that should tokenize the text according to the learnt merges (25 points).\n",
        "\n",
        "Your code should have docstrings and comments (10 points)."
      ]
    },
    {
      "cell_type": "code",
      "execution_count": 165,
      "metadata": {},
      "outputs": [],
      "source": [
        "from typing import List\n",
        "import re\n",
        "from collections import defaultdict\n",
        "\n",
        "class BPETokenizer:\n",
        "    def __init__(self, vocab_size: int) -> None:\n",
        "        \"\"\"init vocav size and default values for vocab\"\"\"\n",
        "        self.vocab_size = vocab_size\n",
        "        self.vocab =  defaultdict(int)\n",
        "\n",
        "\n",
        "    def train(self, corpus: List[str]) -> None:\n",
        "        \"\"\"applies BPE algorithm\"\"\"\n",
        "        # Create a dict of words with spaces between characters\n",
        "        for sent in corpus:\n",
        "            for word in sent.split():\n",
        "                self.vocab[\" \".join(list(re.sub('\\s\\s+', ' ', word))) + ' </w>'] += 1\n",
        "\n",
        "        # since final vocab size is initial vocab size (number of characters) + number of merges\n",
        "        self.symbols = set(list(' '.join(corpus))) # vocabularly of symbols\n",
        "        number_of_merges = self.vocab_size-len(self.symbols)\n",
        "\n",
        "        def get_stats():\n",
        "            '''\n",
        "            Iterates over the sentences of a corpus and counts all pairs of symbols.\n",
        "            Returns a map of pairs with their frequencies\n",
        "            '''\n",
        "            pairs = defaultdict(int)\n",
        "            for word, freq in self.vocab.items():\n",
        "                symbols = word.split()\n",
        "                for i in range(len(symbols)-1): # iterate over all symbols\n",
        "                    pairs[symbols[i], symbols[i+1]] += freq\n",
        "            return pairs\n",
        "        \n",
        "        def merge_vocab(pair):\n",
        "            '''merges all occurences of the pair characters in each vocab sentence'''\n",
        "            v_out = {}\n",
        "            bigram = re.escape(' '.join(pair)) # escapes the space between merged symbols\n",
        "            p = re.compile(r'(?<!\\S)' + bigram + r'(?!\\S)') # to match escaped bigram\n",
        "            for word in self.vocab:\n",
        "                w_out = p.sub(''.join(pair), word) # concatenate word symbols\n",
        "                v_out[w_out] = self.vocab[word] # update the word in new vocab\n",
        "            return v_out\n",
        "    \n",
        "        for i in range(number_of_merges):    \n",
        "            pairs = get_stats() # count all pairs\n",
        "            best = max(pairs, key=pairs.get) # pick the most frequent pair\n",
        "            self.symbols.add(best[0] + best[1])\n",
        "            self.vocab = merge_vocab(best) # add the pair to vocab\n",
        "    \n",
        "    def tokenize(self, text: str) -> List[str]:\n",
        "        \"\"\"\n",
        "        Goes throug the text by symbols and tries to search for the longest token in the symbols vocabularly\n",
        "        Returns a list of tokens from vocabularly\n",
        "        \"\"\"\n",
        "        current = ''\n",
        "        tokens = []\n",
        "        for i in text:\n",
        "            if current + i in self.symbols: \n",
        "                current += i\n",
        "                continue\n",
        "            if (len(current.strip()) > 0): # do not append spaces\n",
        "                tokens.append(current)\n",
        "            current = i # reset token to the current\n",
        "\n",
        "        return tokens"
      ]
    },
    {
      "cell_type": "markdown",
      "metadata": {},
      "source": [
        "### Task 2.2. Analysis on Tweets Dataset (10 points)\n",
        "\n",
        "Train the BPE tokenizer on the tweets dataset. Try to tokenize the tweets with the tokenizer of different `vocab_size`. For example, train the BPE tokenizer with `vocab_size` of [base_vocab_size, 250, 500, 750, 1000]. Plot the dependency of the average length of the tokenized tweet by `vocab_size` to analyze how `vocab_size` affects the length of the tokenized tweet on average. Tell what `vocab_size` is preferrable and why."
      ]
    },
    {
      "cell_type": "markdown",
      "metadata": {},
      "source": [
        "#### Prepare data"
      ]
    },
    {
      "cell_type": "code",
      "execution_count": 166,
      "metadata": {},
      "outputs": [
        {
          "name": "stdout",
          "output_type": "stream",
          "text": [
            "Tweets number: 220\n"
          ]
        }
      ],
      "source": [
        "import glob\n",
        "files = glob.glob('./unzipped_data/file*')\n",
        "tweets = []\n",
        "for f in files:\n",
        "    with open(f, 'r') as file:\n",
        "        tweets.extend(file.readlines())\n",
        "\n",
        "print('Tweets number:', len(tweets))\n",
        "\n",
        "vocab_sizes = [250,500,750,1000]\n",
        "all_tokenized_tweets: List[List[List[str]]] = []"
      ]
    },
    {
      "cell_type": "markdown",
      "metadata": {},
      "source": [
        "#### Train tokenizer"
      ]
    },
    {
      "cell_type": "code",
      "execution_count": 167,
      "metadata": {},
      "outputs": [],
      "source": [
        "vocab_sizes = [len(set(' '.join(tweets)))] + vocab_sizes\n",
        "for size in vocab_sizes:\n",
        "    bpet = BPETokenizer(size)\n",
        "    bpet.train(tweets)\n",
        "    \n",
        "    # tokenize each tweet and append to global tokenized tweets for length calculation\n",
        "    tokenized_tweets: List[List[str]] = []\n",
        "    for tweet in tweets:\n",
        "        tokenized_tweets.append(bpet.tokenize(tweet))\n",
        "    all_tokenized_tweets.append(tokenized_tweets)"
      ]
    },
    {
      "cell_type": "markdown",
      "metadata": {},
      "source": [
        "#### Plot of avg length of tokenized tweet by vocab_size"
      ]
    },
    {
      "cell_type": "code",
      "execution_count": 168,
      "metadata": {},
      "outputs": [
        {
          "data": {
            "image/png": "[encoded data removed]",
            "text/plain": [
              "<Figure size 640x480 with 1 Axes>"
            ]
          },
          "metadata": {},
          "output_type": "display_data"
        }
      ],
      "source": [
        "import matplotlib.pyplot as plt\n",
        "import numpy as np\n",
        "\n",
        "avg_lengths = []\n",
        "for tokenized_tweets in all_tokenized_tweets:\n",
        "    avg_lengths.append(np.mean([len(tweet) for tweet in tokenized_tweets]))\n",
        "\n",
        "plt.plot(vocab_sizes, avg_lengths)\n",
        "plt.xlabel('Vocab size')\n",
        "plt.ylabel('Average length of tokenized tweeet')\n",
        "plt.title('Avg length of tokenized tweets by vocab_size')\n",
        "plt.show()\n"
      ]
    },
    {
      "cell_type": "markdown",
      "metadata": {},
      "source": [
        "As you can see\n",
        "The larger the vocab size the less length of the tokenized tweet\n",
        "In this case the size about 700 to 800 is preferable since it does not reduce much space but the meaning may degrade with huge vocab"
      ]
    },
    {
      "cell_type": "markdown",
      "metadata": {},
      "source": [
        "### Task 2.3. Analysis on Dataset of Different Language (10 points)\n",
        "\n",
        "Find a small dataset of texts in a language other than English. The dataset size should be not greater than several megabytes.\n",
        "\n",
        "Train the BPE tokenizer on the dataset that you found. Try to tokenize the sentences from this dataset with the tokenizer of different `vocab_size`. Plot the dependency of the average length of the tokenized sentence by `vocab_size` to analyze how `vocab_size` affects the length of the tokenized sentence on average.\n",
        "\n",
        "Tell how how the average length of the tokenized sentence differs from the average length of the tokenized tweet. Explain why. "
      ]
    },
    {
      "cell_type": "markdown",
      "metadata": {},
      "source": [
        "#### Import russian text"
      ]
    },
    {
      "cell_type": "code",
      "execution_count": 169,
      "metadata": {},
      "outputs": [
        {
          "name": "stdout",
          "output_type": "stream",
          "text": [
            "Russia number of rows: 1089\n",
            "Avg russin sentence length: 72 symbols\n",
            "Avg tweet length: 98 symbols\n"
          ]
        }
      ],
      "source": [
        "russian = []\n",
        "with open('russian', 'r') as f:\n",
        "    russian.extend(f.readlines())\n",
        "    \n",
        "print('Russia number of rows:', len(russian))\n",
        "print('Avg russin sentence length:', round(np.mean([len(r) for r in russian])), 'symbols')\n",
        "print('Avg tweet length:', round(np.mean([len(t) for t in tweets])), 'symbols')"
      ]
    },
    {
      "cell_type": "markdown",
      "metadata": {},
      "source": [
        "#### Train and plot"
      ]
    },
    {
      "cell_type": "code",
      "execution_count": 173,
      "metadata": {},
      "outputs": [
        {
          "data": {
            "image/png": "[encoded data removed]",
            "text/plain": [
              "<Figure size 640x480 with 1 Axes>"
            ]
          },
          "metadata": {},
          "output_type": "display_data"
        }
      ],
      "source": [
        "all_tokenized_rus: List[List[List[str]]] = []\n",
        "\n",
        "# Base vocab size of russian\n",
        "vocab_sizes[0] = len(set(' '.join(russian)))\n",
        "\n",
        "# Train and tokenize \n",
        "\n",
        "for size in vocab_sizes:\n",
        "    bpet = BPETokenizer(size)\n",
        "    bpet.train(russian)\n",
        "    \n",
        "    tokenized_rus: List[List[str]] = []\n",
        "    for r in russian:\n",
        "        tokenized_rus.append(bpet.tokenize(r))\n",
        "    all_tokenized_rus.append(tokenized_rus)\n",
        "\n",
        "# Plot\n",
        "\n",
        "avg_lengths = []\n",
        "for tokenized_rus in all_tokenized_rus:\n",
        "    avg_lengths.append(np.mean([len(r) for r in tokenized_rus]))\n",
        "\n",
        "plt.plot(vocab_sizes, avg_lengths)\n",
        "plt.xlabel('Vocab size')\n",
        "plt.ylabel('Average length of tokenized sentence')\n",
        "plt.title('Avg length of tokenized russian sentence by vocab_size')\n",
        "plt.show()\n"
      ]
    },
    {
      "cell_type": "markdown",
      "metadata": {},
      "source": [
        "The average length of tokenized sentence is shorter then of tweet since a sentence has more common words, i.e. does not have urls, tags, references etc. and is shorter in general"
      ]
    }
  ],
  "metadata": {
    "colab": {
      "provenance": [],
      "toc_visible": true
    },
    "kernelspec": {
      "display_name": "Python [conda env:root] *",
      "language": "python",
      "name": "conda-root-py"
    },
    "language_info": {
      "codemirror_mode": {
        "name": "ipython",
        "version": 3
      },
      "file_extension": ".py",
      "mimetype": "text/x-python",
      "name": "python",
      "nbconvert_exporter": "python",
      "pygments_lexer": "ipython3",
      "version": "3.10.12"
    }
  },
  "nbformat": 4,
  "nbformat_minor": 0
}
